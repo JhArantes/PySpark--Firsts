{
 "cells": [
  {
   "cell_type": "code",
   "execution_count": 20,
   "id": "ee3e09cd",
   "metadata": {},
   "outputs": [],
   "source": [
    "import os\n",
    "\n",
    "os.environ[\"SPARK_HOME\"] = r\"C:\\Users\\joaoh\\Desktop\\SoftWares\\spark-3.5.5-bin-hadoop3\""
   ]
  },
  {
   "cell_type": "code",
   "execution_count": 21,
   "id": "716a9bc3",
   "metadata": {},
   "outputs": [],
   "source": [
    "import findspark\n",
    "findspark.init()"
   ]
  },
  {
   "cell_type": "code",
   "execution_count": 22,
   "id": "35e8132c",
   "metadata": {},
   "outputs": [],
   "source": [
    "from pyspark.sql import SparkSession\n",
    "\n",
    "spark = SparkSession.builder.appName(\"Practise\").getOrCreate()"
   ]
  },
  {
   "cell_type": "code",
   "execution_count": 23,
   "id": "8500e493",
   "metadata": {},
   "outputs": [
    {
     "data": {
      "text/html": [
       "\n",
       "            <div>\n",
       "                <p><b>SparkSession - in-memory</b></p>\n",
       "                \n",
       "        <div>\n",
       "            <p><b>SparkContext</b></p>\n",
       "\n",
       "            <p><a href=\"http://bispo:4041\">Spark UI</a></p>\n",
       "\n",
       "            <dl>\n",
       "              <dt>Version</dt>\n",
       "                <dd><code>v3.5.5</code></dd>\n",
       "              <dt>Master</dt>\n",
       "                <dd><code>local[*]</code></dd>\n",
       "              <dt>AppName</dt>\n",
       "                <dd><code>Practise</code></dd>\n",
       "            </dl>\n",
       "        </div>\n",
       "        \n",
       "            </div>\n",
       "        "
      ],
      "text/plain": [
       "<pyspark.sql.session.SparkSession at 0x1826e04dd30>"
      ]
     },
     "execution_count": 23,
     "metadata": {},
     "output_type": "execute_result"
    }
   ],
   "source": [
    "spark"
   ]
  },
  {
   "cell_type": "code",
   "execution_count": 24,
   "id": "491bb01b",
   "metadata": {},
   "outputs": [],
   "source": [
    "df_pyspark = spark.read.csv(\"Pasta1.csv\", header=True, inferSchema=True)"
   ]
  },
  {
   "cell_type": "code",
   "execution_count": 25,
   "id": "2f36ec3b",
   "metadata": {},
   "outputs": [
    {
     "name": "stdout",
     "output_type": "stream",
     "text": [
      "+---+-------------+----+\n",
      "| Id|         Name| Age|\n",
      "+---+-------------+----+\n",
      "|  2|Maria Antonia|  27|\n",
      "|  3|     Clarisse|  20|\n",
      "|  4|         João|  34|\n",
      "|  5|      Rogerio|  50|\n",
      "|  6|       Marcio|NULL|\n",
      "|  7|         NULL|  35|\n",
      "+---+-------------+----+\n",
      "\n"
     ]
    }
   ],
   "source": [
    "df_pyspark.show()"
   ]
  },
  {
   "cell_type": "code",
   "execution_count": 26,
   "id": "77c5fcce",
   "metadata": {},
   "outputs": [
    {
     "name": "stdout",
     "output_type": "stream",
     "text": [
      "+---+-------------+\n",
      "| Id|         Name|\n",
      "+---+-------------+\n",
      "|  2|Maria Antonia|\n",
      "|  3|     Clarisse|\n",
      "|  4|         João|\n",
      "|  5|      Rogerio|\n",
      "|  6|       Marcio|\n",
      "|  7|         NULL|\n",
      "+---+-------------+\n",
      "\n"
     ]
    }
   ],
   "source": [
    "# Drop Columns\n",
    "df_pyspark.drop(\"Age\").show()"
   ]
  },
  {
   "cell_type": "code",
   "execution_count": 27,
   "id": "752ea89a",
   "metadata": {},
   "outputs": [
    {
     "name": "stdout",
     "output_type": "stream",
     "text": [
      "+---+-------------+----+\n",
      "| Id|         Name| Age|\n",
      "+---+-------------+----+\n",
      "|  2|Maria Antonia|  27|\n",
      "|  3|     Clarisse|  20|\n",
      "|  4|         João|  34|\n",
      "|  5|      Rogerio|  50|\n",
      "|  6|       Marcio|NULL|\n",
      "|  7|         NULL|  35|\n",
      "+---+-------------+----+\n",
      "\n"
     ]
    }
   ],
   "source": [
    "df_pyspark.show()"
   ]
  },
  {
   "cell_type": "code",
   "execution_count": 28,
   "id": "0183383b",
   "metadata": {},
   "outputs": [
    {
     "name": "stdout",
     "output_type": "stream",
     "text": [
      "+---+-------------+---+\n",
      "| Id|         Name|Age|\n",
      "+---+-------------+---+\n",
      "|  2|Maria Antonia| 27|\n",
      "|  3|     Clarisse| 20|\n",
      "|  4|         João| 34|\n",
      "|  5|      Rogerio| 50|\n",
      "+---+-------------+---+\n",
      "\n"
     ]
    }
   ],
   "source": [
    "## Drop Null Values\n",
    "df_pyspark.na.drop().show()\n"
   ]
  },
  {
   "cell_type": "code",
   "execution_count": 29,
   "id": "8c58a18d",
   "metadata": {},
   "outputs": [
    {
     "name": "stdout",
     "output_type": "stream",
     "text": [
      "+---+-------------+----+\n",
      "| Id|         Name| Age|\n",
      "+---+-------------+----+\n",
      "|  2|Maria Antonia|  27|\n",
      "|  3|     Clarisse|  20|\n",
      "|  4|         João|  34|\n",
      "|  5|      Rogerio|  50|\n",
      "|  6|       Marcio|NULL|\n",
      "|  7|         NULL|  35|\n",
      "+---+-------------+----+\n",
      "\n",
      "+---+-------------+---+\n",
      "| Id|         Name|Age|\n",
      "+---+-------------+---+\n",
      "|  2|Maria Antonia| 27|\n",
      "|  3|     Clarisse| 20|\n",
      "|  4|         João| 34|\n",
      "|  5|      Rogerio| 50|\n",
      "+---+-------------+---+\n",
      "\n"
     ]
    }
   ],
   "source": [
    "### All -> Drop all rows that have null values in all columns\n",
    "### Any -> Drop all rows that have null values in any column\n",
    "\n",
    "df_pyspark.na.drop(how=\"all\").show()\n",
    "df_pyspark.na.drop(how=\"any\").show()"
   ]
  },
  {
   "cell_type": "code",
   "execution_count": 30,
   "id": "b02f8d17",
   "metadata": {},
   "outputs": [
    {
     "name": "stdout",
     "output_type": "stream",
     "text": [
      "+---+-------------+----+\n",
      "| Id|         Name| Age|\n",
      "+---+-------------+----+\n",
      "|  2|Maria Antonia|  27|\n",
      "|  3|     Clarisse|  20|\n",
      "|  4|         João|  34|\n",
      "|  5|      Rogerio|  50|\n",
      "|  6|       Marcio|NULL|\n",
      "|  7|         NULL|  35|\n",
      "+---+-------------+----+\n",
      "\n"
     ]
    }
   ],
   "source": [
    "# Tresh -> Drop rows that have at least a certain number of non-null values\n",
    "\n",
    "df_pyspark.na.drop(thresh=2).show()"
   ]
  },
  {
   "cell_type": "code",
   "execution_count": 32,
   "id": "80d284ed",
   "metadata": {},
   "outputs": [],
   "source": [
    "df_pyspark = df_pyspark.na.drop(thresh=2)"
   ]
  },
  {
   "cell_type": "code",
   "execution_count": 31,
   "id": "13d590f9",
   "metadata": {},
   "outputs": [
    {
     "name": "stdout",
     "output_type": "stream",
     "text": [
      "+---+-------------+----+\n",
      "| Id|         Name| Age|\n",
      "+---+-------------+----+\n",
      "|  2|Maria Antonia|  27|\n",
      "|  3|     Clarisse|  20|\n",
      "|  4|         João|  34|\n",
      "|  5|      Rogerio|  50|\n",
      "|  6|       Marcio|NULL|\n",
      "|  7|         NULL|  35|\n",
      "+---+-------------+----+\n",
      "\n"
     ]
    }
   ],
   "source": [
    "df_pyspark.show()"
   ]
  },
  {
   "cell_type": "code",
   "execution_count": null,
   "id": "bcf1d543",
   "metadata": {},
   "outputs": [],
   "source": []
  },
  {
   "cell_type": "code",
   "execution_count": null,
   "id": "18c7d411",
   "metadata": {},
   "outputs": [],
   "source": []
  }
 ],
 "metadata": {
  "kernelspec": {
   "display_name": "Python 3",
   "language": "python",
   "name": "python3"
  },
  "language_info": {
   "codemirror_mode": {
    "name": "ipython",
    "version": 3
   },
   "file_extension": ".py",
   "mimetype": "text/x-python",
   "name": "python",
   "nbconvert_exporter": "python",
   "pygments_lexer": "ipython3",
   "version": "3.13.2"
  }
 },
 "nbformat": 4,
 "nbformat_minor": 5
}
